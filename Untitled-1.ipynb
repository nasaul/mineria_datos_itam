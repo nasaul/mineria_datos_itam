{
 "cells": [
  {
   "cell_type": "code",
   "execution_count": null,
   "id": "5b8a71d4",
   "metadata": {},
   "outputs": [],
   "source": [
    "print(\"holaaa\")"
   ]
  },
  {
   "cell_type": "code",
   "execution_count": null,
   "id": "bd73bff5",
   "metadata": {},
   "outputs": [],
   "source": []
  }
 ],
 "metadata": {
  "language_info": {
   "name": "python"
  }
 },
 "nbformat": 4,
 "nbformat_minor": 5
}
