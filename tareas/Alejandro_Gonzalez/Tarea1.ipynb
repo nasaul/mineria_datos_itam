{
 "cells": [
  {
   "cell_type": "code",
   "execution_count": 1,
   "id": "c91b8e92",
   "metadata": {},
   "outputs": [
    {
     "name": "stdout",
     "output_type": "stream",
     "text": [
      "hola1\n"
     ]
    }
   ],
   "source": [
    "print(\"hola1\")"
   ]
  },
  {
   "cell_type": "code",
   "execution_count": null,
   "id": "7063d348",
   "metadata": {},
   "outputs": [],
   "source": []
  }
 ],
 "metadata": {
  "kernelspec": {
   "display_name": "mineria_datos",
   "language": "python",
   "name": "python3"
  },
  "language_info": {
   "codemirror_mode": {
    "name": "ipython",
    "version": 3
   },
   "file_extension": ".py",
   "mimetype": "text/x-python",
   "name": "python",
   "nbconvert_exporter": "python",
   "pygments_lexer": "ipython3",
   "version": "3.11.13"
  }
 },
 "nbformat": 4,
 "nbformat_minor": 5
}
