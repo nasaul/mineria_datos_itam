{
 "cells": [
  {
   "cell_type": "code",
   "execution_count": null,
   "id": "e4851f87",
   "metadata": {},
   "outputs": [],
   "source": [
    "# Importar las librerías necesarias\n",
    "import pandas as pd\n",
    "import numpy as np\n",
    "import matplotlib.pyplot as plt\n",
    "import seaborn as sns\n",
    "from sklearn.model_selection import train_test_split, cross_val_score, GridSearchCV, KFold\n",
    "from sklearn.linear_model import LinearRegression, Ridge, Lasso, RidgeCV, LassoCV\n",
    "from sklearn.metrics import mean_squared_error, r2_score, mean_absolute_error\n",
    "from sklearn.preprocessing import StandardScaler\n",
    "import warnings\n",
    "warnings.filterwarnings('ignore')\n",
    "\n",
    "# Configurar estilo de gráficos\n",
    "plt.style.use('seaborn-v0_8-darkgrid')\n",
    "sns.set_palette(\"husl\")\n",
    "\n",
    "# Configurar seed para reproducibilidad\n",
    "np.random.seed(42)"
   ]
  },
  {
   "cell_type": "code",
   "execution_count": null,
   "id": "a0489351",
   "metadata": {},
   "outputs": [],
   "source": [
    "# Cargar el dataset de vinos tintos\n",
    "url = 'https://archive.ics.uci.edu/ml/machine-learning-databases/wine-quality/winequality-red.csv'\n",
    "wine_data = pd.read_csv(url, sep=';')\n",
    "\n",
    "print(\"Dataset cargado exitosamente!\")\n",
    "print(f\"Dimensiones del dataset: {wine_data.shape}\")\n",
    "print(f\"\\nColumnas del dataset:\")\n",
    "print(wine_data.columns.tolist())"
   ]
  },
  {
   "cell_type": "code",
   "execution_count": null,
   "id": "577062dc",
   "metadata": {},
   "outputs": [],
   "source": [
    "# Mostrar las primeras filas del dataset\n",
    "wine_data.head()\n",
    "\n",
    "# TODO: Muestra la información general del dataset (tipos de datos, valores no nulos)\n",
    "# Tu código aquí\n",
    "# TODO: Calcula y muestra las estadísticas descriptivas del dataset\n",
    "# Tu código aquí\n",
    "# TODO: Verifica si hay valores nulos en el dataset\n",
    "# Tu código aquí"
   ]
  },
  {
   "cell_type": "code",
   "execution_count": null,
   "id": "dc0f4354",
   "metadata": {},
   "outputs": [],
   "source": [
    "# Analizar la distribución de la calidad del vino\n",
    "plt.figure(figsize=(10, 6))\n",
    "wine_data['quality'].value_counts().sort_index().plot(kind='bar', color='steelblue', edgecolor='black')\n",
    "plt.xlabel('Calidad del Vino', fontsize=12)\n",
    "plt.ylabel('Frecuencia', fontsize=12)\n",
    "plt.title('Distribución de la Calidad del Vino', fontsize=14)\n",
    "plt.xticks(rotation=0)\n",
    "plt.grid(axis='y', alpha=0.3)\n",
    "\n",
    "# Agregar estadísticas\n",
    "mean_quality = wine_data['quality'].mean()\n",
    "median_quality = wine_data['quality'].median()\n",
    "plt.axhline(y=wine_data['quality'].value_counts().mean(), color='red', \n",
    "            linestyle='--', label=f'Media de frecuencia')\n",
    "\n",
    "plt.legend()\n",
    "plt.tight_layout()\n",
    "plt.show()\n",
    "\n",
    "print(f\"Estadísticas de la calidad del vino:\")\n",
    "print(f\"Media: {mean_quality:.2f}\")\n",
    "print(f\"Mediana: {median_quality:.2f}\")\n",
    "print(f\"Desviación estándar: {wine_data['quality'].std():.2f}\")"
   ]
  },
  {
   "cell_type": "code",
   "execution_count": null,
   "id": "7656eba7",
   "metadata": {},
   "outputs": [],
   "source": [
    "# TODO: Calcula la matriz de correlación y visualízala con un heatmap\n",
    "# Pista: Usa sns.heatmap() con annot=True para mostrar los valores\n",
    "# Tu código aquí\n",
    "\n",
    "plt.figure(figsize=(14, 10))\n",
    "# Completa el código para crear el heatmap\n",
    "\n",
    "# TODO: Identifica y muestra las 5 variables más correlacionadas con 'quality'\n",
    "# Tu código aquí"
   ]
  },
  {
   "cell_type": "code",
   "execution_count": null,
   "id": "d616f677",
   "metadata": {},
   "outputs": [],
   "source": [
    "# Visualizar las 4 variables más correlacionadas con quality\n",
    "top_features = ['alcohol', 'volatile acidity', 'citric acid', 'sulphates']\n",
    "\n",
    "fig, axes = plt.subplots(2, 2, figsize=(14, 10))\n",
    "fig.suptitle('Relación entre Variables Principales y Calidad del Vino', fontsize=16)\n",
    "\n",
    "for idx, (ax, feature) in enumerate(zip(axes.flat, top_features)):\n",
    "    # TODO: Crea un scatter plot para cada variable vs quality\n",
    "    # Agrega una línea de tendencia\n",
    "    # Tu código aquí\n",
    "    pass\n",
    "\n",
    "plt.tight_layout()\n",
    "plt.show()"
   ]
  },
  {
   "cell_type": "code",
   "execution_count": null,
   "id": "c79b117a",
   "metadata": {},
   "outputs": [],
   "source": [
    "# Separar características (X) y variable objetivo (y)\n",
    "X = wine_data.drop('quality', axis=1)\n",
    "y = wine_data['quality']\n",
    "\n",
    "print(f\"Forma de X: {X.shape}\")\n",
    "print(f\"Forma de y: {y.shape}\")\n",
    "print(f\"\\nCaracterísticas: {X.columns.tolist()}\")"
   ]
  },
  {
   "cell_type": "code",
   "execution_count": null,
   "id": "c2d290a8",
   "metadata": {},
   "outputs": [],
   "source": [
    "# TODO: Divide los datos en conjuntos de entrenamiento y prueba\n",
    "# Usa test_size=0.2 y random_state=42\n",
    "# Tu código aquí\n",
    "\n",
    "# X_train, X_test, y_train, y_test = ...\n",
    "\n",
    "# print(f\"Tamaño del conjunto de entrenamiento: ...\")\n",
    "# print(f\"Tamaño del conjunto de prueba: ...\")"
   ]
  },
  {
   "cell_type": "code",
   "execution_count": null,
   "id": "28900f4c",
   "metadata": {},
   "outputs": [],
   "source": [
    "# TODO: Estandariza las características\n",
    "# Recuerda: ajusta el scaler solo con los datos de entrenamiento\n",
    "# Tu código aquí\n",
    "\n",
    "# scaler = StandardScaler()\n",
    "# X_train_scaled = ...\n",
    "# X_test_scaled = ..."
   ]
  },
  {
   "cell_type": "code",
   "execution_count": null,
   "id": "6150387a",
   "metadata": {},
   "outputs": [],
   "source": [
    "# Ejemplo: Validación cruzada manual para Ridge\n",
    "def manual_cross_validation(X, y, alpha, n_folds=5):\n",
    "    \"\"\"\n",
    "    Implementa validación cruzada manualmente para Ridge regression\n",
    "    \"\"\"\n",
    "    kf = KFold(n_splits=n_folds, shuffle=True, random_state=42)\n",
    "    scores = []\n",
    "    \n",
    "    for train_idx, val_idx in kf.split(X):\n",
    "        # Dividir datos\n",
    "        X_train_cv, X_val_cv = X[train_idx], X[val_idx]\n",
    "        y_train_cv, y_val_cv = y.iloc[train_idx], y.iloc[val_idx]\n",
    "        \n",
    "        # Estandarizar\n",
    "        scaler_cv = StandardScaler()\n",
    "        X_train_cv_scaled = scaler_cv.fit_transform(X_train_cv)\n",
    "        X_val_cv_scaled = scaler_cv.transform(X_val_cv)\n",
    "        \n",
    "        # Entrenar modelo\n",
    "        model = Ridge(alpha=alpha)\n",
    "        model.fit(X_train_cv_scaled, y_train_cv)\n",
    "        \n",
    "        # Evaluar\n",
    "        y_pred = model.predict(X_val_cv_scaled)\n",
    "        rmse = np.sqrt(mean_squared_error(y_val_cv, y_pred))\n",
    "        scores.append(rmse)\n",
    "    \n",
    "    return np.mean(scores), np.std(scores)\n",
    "\n",
    "# Probar diferentes valores de alpha\n",
    "alphas_to_test = [0.001, 0.01, 0.1, 1, 10, 100]\n",
    "cv_results_manual = []\n",
    "\n",
    "print(\"Validación Cruzada Manual para Ridge Regression:\")\n",
    "print(\"-\" * 50)\n",
    "\n",
    "for alpha in alphas_to_test:\n",
    "    mean_rmse, std_rmse = manual_cross_validation(X_train.values, y_train, alpha)\n",
    "    cv_results_manual.append({'alpha': alpha, 'mean_rmse': mean_rmse, 'std_rmse': std_rmse})\n",
    "    print(f\"Alpha: {alpha:7.3f} | RMSE: {mean_rmse:.4f} (+/- {std_rmse:.4f})\")\n",
    "\n",
    "# TODO: Identifica el mejor alpha basado en el RMSE medio más bajo\n",
    "# Tu código aquí"
   ]
  },
  {
   "cell_type": "code",
   "execution_count": null,
   "id": "14b56218",
   "metadata": {},
   "outputs": [],
   "source": [
    "# TODO: Usa RidgeCV para encontrar automáticamente el mejor alpha\n",
    "# Pista: RidgeCV tiene un parámetro 'alphas' y 'cv'\n",
    "# Tu código aquí\n",
    "\n",
    "# alphas = np.logspace(-3, 3, 100)  # 100 valores entre 0.001 y 1000\n",
    "# ridge_cv = RidgeCV(...)\n",
    "# ridge_cv.fit(...)\n",
    "\n",
    "# print(f\"Mejor alpha encontrado por RidgeCV: ...\")"
   ]
  },
  {
   "cell_type": "code",
   "execution_count": null,
   "id": "0e1b5471",
   "metadata": {},
   "outputs": [],
   "source": [
    "# Ejemplo completo con GridSearchCV para Ridge\n",
    "from sklearn.model_selection import GridSearchCV\n",
    "\n",
    "# Definir parámetros a buscar\n",
    "param_grid_ridge = {\n",
    "    'alpha': np.logspace(-3, 3, 20)  # 20 valores entre 0.001 y 1000\n",
    "}\n",
    "\n",
    "# Crear modelo base\n",
    "ridge_base = Ridge(random_state=42)\n",
    "\n",
    "# TODO: Implementa GridSearchCV\n",
    "# Usa cv=5, scoring='neg_mean_squared_error'\n",
    "# Tu código aquí\n",
    "\n",
    "# grid_search_ridge = GridSearchCV(...)\n",
    "# grid_search_ridge.fit(...)\n",
    "\n",
    "# print(f\"Mejor alpha: ...\")\n",
    "# print(f\"Mejor score (RMSE): ...\")"
   ]
  },
  {
   "cell_type": "code",
   "execution_count": null,
   "id": "2e77e404",
   "metadata": {},
   "outputs": [],
   "source": [
    "# TODO: Visualiza los resultados de la validación cruzada\n",
    "# Crea un gráfico que muestre cómo cambia el RMSE con diferentes valores de alpha\n",
    "# Tu código aquí\n",
    "\n",
    "plt.figure(figsize=(10, 6))\n",
    "# Completa el código para visualizar los resultados"
   ]
  },
  {
   "cell_type": "code",
   "execution_count": null,
   "id": "f95aace7",
   "metadata": {},
   "outputs": [],
   "source": [
    "# TODO: Implementa y entrena un modelo de regresión lineal\n",
    "# Tu código aquí\n",
    "\n",
    "# lr_model = LinearRegression()\n",
    "# lr_model.fit(...)\n",
    "\n",
    "# Hacer predicciones\n",
    "# y_pred_lr_train = ...\n",
    "# y_pred_lr_test = ...\n",
    "\n",
    "# Calcular métricas\n",
    "# rmse_lr_train = ...\n",
    "# rmse_lr_test = ...\n",
    "# r2_lr_train = ...\n",
    "# r2_lr_test = ...\n",
    "\n",
    "# print(\"Regresión Lineal Normal:\")\n",
    "# print(f\"RMSE Train: ...\")\n",
    "# print(f\"RMSE Test: ...\")\n",
    "# print(f\"R² Train: ...\")\n",
    "# print(f\"R² Test: ...\")"
   ]
  },
  {
   "cell_type": "code",
   "execution_count": null,
   "id": "3b76f84f",
   "metadata": {},
   "outputs": [],
   "source": [
    "# TODO: Entrena Ridge con el mejor alpha encontrado por validación cruzada\n",
    "# Tu código aquí\n",
    "\n",
    "# best_alpha_ridge = ...  # Usa el mejor alpha de la sección anterior\n",
    "# ridge_model = Ridge(alpha=best_alpha_ridge)\n",
    "# ridge_model.fit(...)\n",
    "\n",
    "# Predicciones y métricas\n",
    "# ..."
   ]
  },
  {
   "cell_type": "code",
   "execution_count": null,
   "id": "a02634e7",
   "metadata": {},
   "outputs": [],
   "source": [
    "# TODO: Implementa LassoCV para encontrar el mejor alpha automáticamente\n",
    "# Tu código aquí\n",
    "\n",
    "# alphas_lasso = np.logspace(-3, 1, 100)\n",
    "# lasso_cv = LassoCV(...)\n",
    "# lasso_cv.fit(...)\n",
    "\n",
    "# print(f\"Mejor alpha para Lasso: ...\")\n",
    "# print(f\"Número de características seleccionadas: ...\")\n",
    "\n",
    "# Predicciones y métricas\n",
    "# ...\n",
    "\n",
    "# TODO: Identifica qué características fueron eliminadas por Lasso\n",
    "# Tu código aquí"
   ]
  },
  {
   "cell_type": "code",
   "execution_count": null,
   "id": "ae175ea1",
   "metadata": {},
   "outputs": [],
   "source": [
    "# TODO: Crea una tabla comparativa con todos los modelos\n",
    "# Incluye: RMSE Train, RMSE Test, R² Train, R² Test, MAE Test\n",
    "# Tu código aquí\n",
    "\n",
    "# comparison_data = {\n",
    "#     'Modelo': [...],\n",
    "#     'RMSE Train': [...],\n",
    "#     'RMSE Test': [...],\n",
    "#     'R² Train': [...],\n",
    "#     'R² Test': [...],\n",
    "#     'MAE Test': [...]\n",
    "# }\n",
    "\n",
    "# comparison_df = pd.DataFrame(comparison_data)\n",
    "# print(comparison_df)"
   ]
  },
  {
   "cell_type": "code",
   "execution_count": null,
   "id": "8724c49f",
   "metadata": {},
   "outputs": [],
   "source": [
    "# TODO: Crea visualizaciones para comparar los modelos\n",
    "# 1. Gráfico de barras comparando RMSE\n",
    "# 2. Gráfico de barras comparando R²\n",
    "# Tu código aquí"
   ]
  },
  {
   "cell_type": "code",
   "execution_count": null,
   "id": "9f3df136",
   "metadata": {},
   "outputs": [],
   "source": [
    "# TODO: Para el mejor modelo, crea:\n",
    "# 1. Gráfico de residuos vs predicciones\n",
    "# 2. Histograma de residuos\n",
    "# 3. Q-Q plot de residuos\n",
    "# Tu código aquí"
   ]
  },
  {
   "cell_type": "code",
   "execution_count": null,
   "id": "0278b07d",
   "metadata": {},
   "outputs": [],
   "source": [
    "# TODO: Visualiza los coeficientes de los tres modelos en un mismo gráfico\n",
    "# Esto te ayudará a entender qué características son más importantes\n",
    "# Tu código aquí"
   ]
  },
  {
   "cell_type": "code",
   "execution_count": null,
   "id": "4903373f",
   "metadata": {},
   "outputs": [],
   "source": [
    "# TODO: Realiza validación cruzada con 10 folds del mejor modelo\n",
    "# Reporta la media y desviación estándar del RMSE\n",
    "# Tu código aquí"
   ]
  }
 ],
 "metadata": {
  "language_info": {
   "name": "python"
  }
 },
 "nbformat": 4,
 "nbformat_minor": 5
}
