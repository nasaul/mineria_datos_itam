{
 "cells": [
  {
   "cell_type": "code",
   "execution_count": null,
   "metadata": {},
   "outputs": [
    {
     "ename": "",
     "evalue": "",
     "output_type": "error",
     "traceback": [
      "\u001b[1;31mRunning cells with 'mineria_de_datos (Python 3.11.13)' requires the ipykernel package.\n",
      "\u001b[1;31mRun the following command to install 'ipykernel' into the Python environment. \n",
      "\u001b[1;31mCommand: 'conda install -n mineria_de_datos ipykernel --update-deps --force-reinstall'"
     ]
    }
   ],
   "source": [
    "print(\"hola compañeros\")"
   ]
  }
 ],
 "metadata": {
  "kernelspec": {
   "display_name": "mineria_de_datos",
   "language": "python",
   "name": "python3"
  },
  "language_info": {
   "name": "python",
   "version": "3.11.13"
  }
 },
 "nbformat": 4,
 "nbformat_minor": 2
}
