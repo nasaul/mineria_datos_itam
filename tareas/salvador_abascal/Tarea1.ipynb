{
 "cells": [
  {
   "cell_type": "code",
   "execution_count": 1,
   "metadata": {},
   "outputs": [
    {
     "name": "stdout",
     "output_type": "stream",
     "text": [
      "hola compañeros\n"
     ]
    }
   ],
   "source": [
    "print(\"hola compañeros\")"
   ]
  },
  {
   "cell_type": "code",
   "execution_count": 2,
   "metadata": {},
   "outputs": [
    {
     "name": "stdout",
     "output_type": "stream",
     "text": [
      "no se como funciona esto ayuda\n"
     ]
    }
   ],
   "source": [
    "print(\"no se como funciona esto ayuda\")"
   ]
  }
 ],
 "metadata": {
  "kernelspec": {
   "display_name": "mineria_de_datos",
   "language": "python",
   "name": "python3"
  },
  "language_info": {
   "codemirror_mode": {
    "name": "ipython",
    "version": 3
   },
   "file_extension": ".py",
   "mimetype": "text/x-python",
   "name": "python",
   "nbconvert_exporter": "python",
   "pygments_lexer": "ipython3",
   "version": "3.11.13"
  }
 },
 "nbformat": 4,
 "nbformat_minor": 2
}
