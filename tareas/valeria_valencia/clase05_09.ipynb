{
 "cells": [
  {
   "cell_type": "code",
   "execution_count": 1,
   "id": "44a59e34",
   "metadata": {},
   "outputs": [
    {
     "name": "stderr",
     "output_type": "stream",
     "text": [
      "Matplotlib is building the font cache; this may take a moment.\n"
     ]
    }
   ],
   "source": [
    "import numpy as np\n",
    "import pandas as pd\n",
    "from sklearn.linear_model import LinearRegression\n",
    "from sklearn.neighbors import KNeighborsRegressor\n",
    "from sklearn.metrics import mean_squared_error\n",
    "from sklearn.model_selection import train_test_split\n",
    "import matplotlib.pyplot as plt\n",
    "import seaborn as sns"
   ]
  },
  {
   "cell_type": "code",
   "execution_count": 3,
   "id": "7a9a0d05",
   "metadata": {},
   "outputs": [],
   "source": [
    "def genera_datos_lineales (\n",
    "        n:int=100,\n",
    "        slope:float=0.5,\n",
    "        intercept:float=1,\n",
    "        noise_scale: float=1.5,\n",
    ") -> pd.DataFrame:\n",
    "    x = np.linspace(0,10,n)\n",
    "    y = slope * x + intercept + np.random.normal(scale=noise_scale,size=n)\n",
    "    df= pd.DataFrame({\"x\":x,\"y\":y})\n",
    "    return df"
   ]
  },
  {
   "cell_type": "code",
   "execution_count": null,
   "id": "1f439d7d",
   "metadata": {},
   "outputs": [],
   "source": [
    "def descenso_gradiente_historial(datos:pd.DataFrame,learning_rate: float, iteraciones)\n",
    "    \"\"\"\n",
    "    Realiza el descenso de gradiente para una regresion lineal y guarda el historial\n",
    "    de los parametros (m,b) y del error cuadratico medio (mse) en cada iteracion\n",
    "    \"\"\"\n",
    "    # 1. Inicializar parametros y listas de historial\n",
    "    n=0.0\n",
    "    b=0.0\n",
    "    n= float(len(datos))\n",
    "\n",
    "    historial_m=[]\n",
    "    historial_b=[]\n",
    "    historial_error=[]\n",
    "\n",
    "    # 2. Iterar para optimizar m y b\n",
    "    for i in range(iteraciones):\n",
    "        # Almacenar los valores de la iteracion actual ANTES de actualizar \n"
   ]
  }
 ],
 "metadata": {
  "kernelspec": {
   "display_name": "mineria_datos",
   "language": "python",
   "name": "python3"
  },
  "language_info": {
   "codemirror_mode": {
    "name": "ipython",
    "version": 3
   },
   "file_extension": ".py",
   "mimetype": "text/x-python",
   "name": "python",
   "nbconvert_exporter": "python",
   "pygments_lexer": "ipython3",
   "version": "3.11.13"
  }
 },
 "nbformat": 4,
 "nbformat_minor": 5
}
